{
 "cells": [
  {
   "cell_type": "code",
   "execution_count": 12,
   "metadata": {},
   "outputs": [],
   "source": [
    "import tqdm\n",
    "import psycopg2\n",
    "from pgvector.psycopg2 import register_vector"
   ]
  },
  {
   "cell_type": "code",
   "execution_count": 13,
   "metadata": {},
   "outputs": [],
   "source": [
    "conn = psycopg2.connect( host=\"localhost\",\n",
    "                        database=\"vectordb\",\n",
    "                        user=\"testuser\",\n",
    "                        password=\"testpwd\")"
   ]
  },
  {
   "cell_type": "markdown",
   "metadata": {},
   "source": [
    "Enable the extension"
   ]
  },
  {
   "cell_type": "code",
   "execution_count": 14,
   "metadata": {},
   "outputs": [],
   "source": [
    "cur = conn.cursor()\n",
    "cur.execute('CREATE EXTENSION IF NOT EXISTS vector')"
   ]
  },
  {
   "cell_type": "markdown",
   "metadata": {},
   "source": [
    "Register the vector type with your connection or cursor"
   ]
  },
  {
   "cell_type": "code",
   "execution_count": 15,
   "metadata": {},
   "outputs": [],
   "source": [
    "register_vector(conn)"
   ]
  },
  {
   "cell_type": "markdown",
   "metadata": {},
   "source": [
    "Create a table"
   ]
  },
  {
   "cell_type": "code",
   "execution_count": 16,
   "metadata": {},
   "outputs": [],
   "source": [
    "cur.execute('CREATE TABLE employees (id bigserial PRIMARY KEY, name text, email text, address text, describe text, embedding vector(1024))')"
   ]
  },
  {
   "cell_type": "markdown",
   "metadata": {},
   "source": [
    "Config and index for table"
   ]
  },
  {
   "cell_type": "code",
   "execution_count": 17,
   "metadata": {},
   "outputs": [],
   "source": [
    "cur.execute(\"SET maintenance_work_mem = '4GB'\")\n",
    "cur.execute(\"CREATE INDEX ON employees USING ivfflat (embedding vector_l2_ops) WITH (lists = 1000)\")\n",
    "cur.execute(\"SET ivfflat.probes = 64\")\n",
    "cur.execute(\"SET max_parallel_maintenance_workers = 6;\")\n",
    "conn.commit() "
   ]
  },
  {
   "cell_type": "markdown",
   "metadata": {},
   "source": [
    "Fake data for table"
   ]
  },
  {
   "cell_type": "code",
   "execution_count": 18,
   "metadata": {},
   "outputs": [
    {
     "name": "stderr",
     "output_type": "stream",
     "text": [
      "100%|██████████| 100000/100000 [05:38<00:00, 295.02it/s]\n"
     ]
    }
   ],
   "source": [
    "from faker import Faker\n",
    "import numpy as np\n",
    "\n",
    "number_data = 100000\n",
    "fake = Faker()\n",
    "embeddings = np.random.rand(number_data,1024)\n",
    "for i in tqdm.tqdm(range(number_data)):\n",
    "    name = fake.name()\n",
    "    email = fake.email()\n",
    "    address = fake.address()\n",
    "    describe = fake.text()\n",
    "    cur.execute('INSERT INTO employees (name, email, address, describe, embedding) VALUES (%s, %s, %s, %s, %s)', (name, email, address, describe, embeddings[i]))\n",
    "conn.commit() "
   ]
  },
  {
   "cell_type": "markdown",
   "metadata": {},
   "source": [
    "Test Query"
   ]
  },
  {
   "cell_type": "code",
   "execution_count": 20,
   "metadata": {},
   "outputs": [
    {
     "data": {
      "text/plain": [
       "[(11,\n",
       "  'Jo Robinson',\n",
       "  'marthanorton@example.com',\n",
       "  'USCGC Mendoza\\nFPO AA 85238',\n",
       "  'Wife research mother senior yeah series within. Ability major matter big art.\\nIdea when country rise. Us card goal him play stop cost. Reach instead indicate amount.',\n",
       "  0.0),\n",
       " (99842,\n",
       "  'Elizabeth Osborn',\n",
       "  'larrybrown@example.com',\n",
       "  '89785 Melissa Ports\\nChristopherview, PA 19690',\n",
       "  'Gun whatever least guess physical point. Guy push room relate office believe way.\\nDream know suffer star trouble however both town. International plant material black.',\n",
       "  12.19498843459566),\n",
       " (77612,\n",
       "  'Kimberly Huff',\n",
       "  'anthony89@example.net',\n",
       "  '043 Catherine Station\\nPort Larry, HI 26049',\n",
       "  'Someone there seek I factor provide. Hand their soon remain.\\nGive various treat myself leg run. These word blood drug involve.\\nBlack for though stuff late. Drive worker billion goal western.',\n",
       "  12.196697501030377),\n",
       " (52190,\n",
       "  'Kristen Martinez',\n",
       "  'mgates@example.com',\n",
       "  '000 Joseph Hollow Apt. 991\\nNew Robertfurt, OR 29066',\n",
       "  'When expert article approach report practice. Trouble area newspaper family.\\nGuess indicate Congress main. Yourself mean share member skill above. Tend risk office discuss.',\n",
       "  12.221729276330182),\n",
       " (25183,\n",
       "  'Christine Delacruz',\n",
       "  'msanchez@example.net',\n",
       "  '974 Cindy Road Apt. 721\\nPort Georgestad, KY 47114',\n",
       "  'Activity answer join yeah authority itself within.\\nApproach cause pick fall rock order school. Right agreement energy walk meet.',\n",
       "  12.236076071077177)]"
      ]
     },
     "execution_count": 20,
     "metadata": {},
     "output_type": "execute_result"
    }
   ],
   "source": [
    "cur.execute('SELECT id, name, email, address, describe, embedding <-> %s AS similarity FROM employees ORDER BY similarity ASC LIMIT 5;', (embeddings[10],))\n",
    "cur.fetchall()"
   ]
  },
  {
   "cell_type": "markdown",
   "metadata": {},
   "source": [
    "Close Connection"
   ]
  },
  {
   "cell_type": "code",
   "execution_count": 21,
   "metadata": {},
   "outputs": [],
   "source": [
    "cur.close()\n",
    "conn.close()"
   ]
  },
  {
   "cell_type": "markdown",
   "metadata": {},
   "source": [
    "Benchmark"
   ]
  },
  {
   "cell_type": "code",
   "execution_count": 22,
   "metadata": {},
   "outputs": [],
   "source": [
    "conn = psycopg2.connect( host=\"localhost\",\n",
    "                        database=\"vectordb\",\n",
    "                        user=\"testuser\",\n",
    "                        password=\"testpwd\")\n",
    "cur = conn.cursor()"
   ]
  },
  {
   "cell_type": "code",
   "execution_count": 23,
   "metadata": {},
   "outputs": [
    {
     "name": "stderr",
     "output_type": "stream",
     "text": [
      "100%|██████████| 10000/10000 [01:15<00:00, 133.07it/s]\n"
     ]
    }
   ],
   "source": [
    "import random\n",
    "num_query = 10000\n",
    "for _ in tqdm.tqdm(range(num_query)):\n",
    "    cur.execute('SELECT id, name, email, address, describe, embedding <-> %s AS similarity FROM employees ORDER BY similarity ASC LIMIT 5;', (embeddings[random.randint(0,num_query)],))"
   ]
  },
  {
   "cell_type": "code",
   "execution_count": null,
   "metadata": {},
   "outputs": [],
   "source": [
    "cur.close()\n",
    "conn.close()"
   ]
  }
 ],
 "metadata": {
  "kernelspec": {
   "display_name": "pgvector-env",
   "language": "python",
   "name": "python3"
  },
  "language_info": {
   "codemirror_mode": {
    "name": "ipython",
    "version": 3
   },
   "file_extension": ".py",
   "mimetype": "text/x-python",
   "name": "python",
   "nbconvert_exporter": "python",
   "pygments_lexer": "ipython3",
   "version": "3.10.13"
  }
 },
 "nbformat": 4,
 "nbformat_minor": 2
}
